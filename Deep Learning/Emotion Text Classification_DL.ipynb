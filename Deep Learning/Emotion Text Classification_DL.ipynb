{
  "metadata": {
    "kernelspec": {
      "language": "python",
      "display_name": "Python 3",
      "name": "python3"
    },
    "language_info": {
      "pygments_lexer": "ipython3",
      "nbconvert_exporter": "python",
      "version": "3.6.4",
      "file_extension": ".py",
      "codemirror_mode": {
        "name": "ipython",
        "version": 3
      },
      "name": "python",
      "mimetype": "text/x-python"
    },
    "colab": {
      "name": "Copy of assignment_week_6_1.ipynb",
      "provenance": [],
      "collapsed_sections": []
    },
    "gpuClass": "standard",
    "accelerator": "GPU"
  },
  "nbformat_minor": 0,
  "nbformat": 4,
  "cells": [
    {
      "cell_type": "code",
      "source": [
        "import re\n",
        "import string\n",
        "import numpy as np\n",
        "import pandas as pd\n",
        "import matplotlib.pyplot as plt\n",
        "import seaborn as sns\n",
        "\n",
        "from sklearn.preprocessing import LabelEncoder\n",
        "from sklearn.model_selection import train_test_split\n",
        "\n",
        "import tensorflow as tf\n",
        "from tensorflow.keras.utils import to_categorical\n",
        "from tensorflow.keras.preprocessing.text import Tokenizer\n",
        "from tensorflow.keras.preprocessing.sequence import pad_sequences\n",
        "\n",
        "from tensorflow.keras.optimizers import Adam\n",
        "from tensorflow.keras.models import Sequential\n",
        "from tensorflow.keras.callbacks import EarlyStopping\n",
        "from tensorflow.keras.layers import Dense, LSTM, Embedding, Bidirectional, Dropout, Activation, Flatten, Input, concatenate, Conv1D, GlobalMaxPooling1D, MaxPooling1D\n"
      ],
      "metadata": {
        "_uuid": "8f2839f25d086af736a60e9eeb907d3b93b6e0e5",
        "_cell_guid": "b1076dfc-b9ad-4769-8c92-a6c4dae69d19",
        "execution": {
          "iopub.status.busy": "2021-10-28T16:49:56.359082Z",
          "iopub.execute_input": "2021-10-28T16:49:56.359603Z",
          "iopub.status.idle": "2021-10-28T16:49:56.365625Z",
          "shell.execute_reply.started": "2021-10-28T16:49:56.359565Z",
          "shell.execute_reply": "2021-10-28T16:49:56.364911Z"
        },
        "trusted": true,
        "id": "t68PiZcNQpq0"
      },
      "execution_count": 1,
      "outputs": []
    },
    {
      "cell_type": "code",
      "source": [
        "from google.colab import drive\n",
        "drive.mount('/content/drive')"
      ],
      "metadata": {
        "colab": {
          "base_uri": "https://localhost:8080/"
        },
        "id": "S5tbyjXjQ2FQ",
        "outputId": "f21f3da8-ccf6-446a-dfbd-20eea5a2b38f"
      },
      "execution_count": 2,
      "outputs": [
        {
          "output_type": "stream",
          "name": "stdout",
          "text": [
            "Mounted at /content/drive\n"
          ]
        }
      ]
    },
    {
      "cell_type": "code",
      "source": [
        "# Text preprocessing function\n",
        "str_punc = string.punctuation.replace(',', '').replace(\"'\",'')\n",
        "\n",
        "def clean(text):\n",
        "    global str_punc\n",
        "    text = re.sub(r'[^a-zA-Z ]', '', text)\n",
        "    text = text.lower()\n",
        "    return text    "
      ],
      "metadata": {
        "execution": {
          "iopub.status.busy": "2021-10-28T16:49:24.707767Z",
          "iopub.execute_input": "2021-10-28T16:49:24.70831Z",
          "iopub.status.idle": "2021-10-28T16:49:24.713891Z",
          "shell.execute_reply.started": "2021-10-28T16:49:24.708271Z",
          "shell.execute_reply": "2021-10-28T16:49:24.712859Z"
        },
        "trusted": true,
        "id": "8D27h1V5Qpq5"
      },
      "execution_count": 3,
      "outputs": []
    },
    {
      "cell_type": "code",
      "source": [
        "# Read dataset & Preprocess text\n",
        "df_train = pd.read_csv('/content/drive/MyDrive/Colab Notebooks/kominfoPROA/copy assignment6/train.txt', names=['Text', 'Emotion'], sep=';')\n",
        "df_val = pd.read_csv('/content/drive/MyDrive/Colab Notebooks/kominfoPROA/copy assignment6/val.txt', names=['Text', 'Emotion'], sep=';')\n",
        "df_test = pd.read_csv('/content/drive/MyDrive/Colab Notebooks/kominfoPROA/copy assignment6/test.txt', names=['Text', 'Emotion'], sep=';')\n",
        "\n",
        "X_train = df_train['Text'].apply(clean)\n",
        "y_train = df_train['Emotion']\n",
        "\n",
        "X_test = df_test['Text'].apply(clean)\n",
        "y_test = df_test['Emotion']\n",
        "\n",
        "X_val = df_val['Text'].apply(clean)\n",
        "y_val = df_val['Emotion']"
      ],
      "metadata": {
        "execution": {
          "iopub.status.busy": "2021-10-28T17:00:39.84876Z",
          "iopub.execute_input": "2021-10-28T17:00:39.849444Z",
          "iopub.status.idle": "2021-10-28T17:00:39.970872Z",
          "shell.execute_reply.started": "2021-10-28T17:00:39.849404Z",
          "shell.execute_reply": "2021-10-28T17:00:39.970153Z"
        },
        "trusted": true,
        "id": "orwQDQnyQpq7"
      },
      "execution_count": 7,
      "outputs": []
    },
    {
      "cell_type": "code",
      "source": [
        "y_train"
      ],
      "metadata": {
        "colab": {
          "base_uri": "https://localhost:8080/"
        },
        "id": "caKc1Zbaylnv",
        "outputId": "080f9d31-a59e-450f-9edd-b5efef9080dc"
      },
      "execution_count": 8,
      "outputs": [
        {
          "output_type": "execute_result",
          "data": {
            "text/plain": [
              "0        sadness\n",
              "1        sadness\n",
              "2          anger\n",
              "3           love\n",
              "4          anger\n",
              "          ...   \n",
              "15995    sadness\n",
              "15996    sadness\n",
              "15997        joy\n",
              "15998      anger\n",
              "15999    sadness\n",
              "Name: Emotion, Length: 16000, dtype: object"
            ]
          },
          "metadata": {},
          "execution_count": 8
        }
      ]
    },
    {
      "cell_type": "code",
      "source": [
        ""
      ],
      "metadata": {
        "id": "tI01Y7B4yleo"
      },
      "execution_count": null,
      "outputs": []
    },
    {
      "cell_type": "code",
      "source": [
        "# Visualize classes counts\n",
        "#colors = np.array([\"gray\", 'orangered', 'hotpink', 'gold', 'teal', 'cornflowerblue'])\n",
        "\n",
        "sns.countplot(data=df_train, x='Emotion', order = df_train['Emotion'].value_counts().index)\n",
        "plt.title(\"Training data - classes counts\")\n",
        "plt.show()\n",
        "\n",
        "sns.countplot(data=df_test, x='Emotion', order = df_test['Emotion'].value_counts().index)\n",
        "plt.title(\"Testing data - classes counts\")\n",
        "plt.show()\n",
        "\n",
        "sns.countplot(data=df_val, x='Emotion', order = df_val['Emotion'].value_counts().index)\n",
        "plt.title(\"Validation data - classes counts\")\n",
        "plt.show()"
      ],
      "metadata": {
        "execution": {
          "iopub.status.busy": "2021-10-28T17:00:42.26372Z",
          "iopub.execute_input": "2021-10-28T17:00:42.264322Z",
          "iopub.status.idle": "2021-10-28T17:00:42.812352Z",
          "shell.execute_reply.started": "2021-10-28T17:00:42.264285Z",
          "shell.execute_reply": "2021-10-28T17:00:42.811716Z"
        },
        "trusted": true,
        "colab": {
          "base_uri": "https://localhost:8080/",
          "height": 851
        },
        "id": "_OFClA3aQpq9",
        "outputId": "f05dc4e7-4747-45d1-976e-0346fc5c433f"
      },
      "execution_count": 9,
      "outputs": [
        {
          "output_type": "display_data",
          "data": {
            "text/plain": [
              "<Figure size 432x288 with 1 Axes>"
            ],
            "image/png": "[encoded data removed]"
          },
          "metadata": {
            "needs_background": "light"
          }
        },
        {
          "output_type": "display_data",
          "data": {
            "text/plain": [
              "<Figure size 432x288 with 1 Axes>"
            ],
            "image/png": "[encoded data removed]"
          },
          "metadata": {
            "needs_background": "light"
          }
        },
        {
          "output_type": "display_data",
          "data": {
            "text/plain": [
              "<Figure size 432x288 with 1 Axes>"
            ],
            "image/png": "[encoded data removed]"
          },
          "metadata": {
            "needs_background": "light"
          }
        }
      ]
    },
    {
      "cell_type": "code",
      "source": [
        "# Encode labels\n",
        "\n",
        "le = LabelEncoder()\n",
        "y_train = le.fit_transform(y_train)\n",
        "y_test = le.transform(y_test)\n",
        "y_val = le.transform(y_val)\n",
        "\n",
        "y_train = to_categorical(y_train)\n",
        "y_test = to_categorical(y_test)\n",
        "y_val = to_categorical(y_val)"
      ],
      "metadata": {
        "execution": {
          "iopub.status.busy": "2021-10-28T17:01:21.726601Z",
          "iopub.execute_input": "2021-10-28T17:01:21.72706Z",
          "iopub.status.idle": "2021-10-28T17:01:21.743992Z",
          "shell.execute_reply.started": "2021-10-28T17:01:21.727018Z",
          "shell.execute_reply": "2021-10-28T17:01:21.743311Z"
        },
        "trusted": true,
        "id": "V9F2tWMGQpq_"
      },
      "execution_count": 10,
      "outputs": []
    },
    {
      "cell_type": "code",
      "source": [
        "#after we use label encoder, it will encode based on the first alphabet\n",
        "# like anger=0, fear=1, joy=2, love=3, sadness=4, surprise=5\n",
        "y_train"
      ],
      "metadata": {
        "colab": {
          "base_uri": "https://localhost:8080/"
        },
        "id": "eQSazIxEyjGa",
        "outputId": "9dc37992-0c3e-4330-fe5a-80c82cc8c7e7"
      },
      "execution_count": 12,
      "outputs": [
        {
          "output_type": "execute_result",
          "data": {
            "text/plain": [
              "array([[0., 0., 0., 0., 1., 0.],\n",
              "       [0., 0., 0., 0., 1., 0.],\n",
              "       [1., 0., 0., 0., 0., 0.],\n",
              "       ...,\n",
              "       [0., 0., 1., 0., 0., 0.],\n",
              "       [1., 0., 0., 0., 0., 0.],\n",
              "       [0., 0., 0., 0., 1., 0.]], dtype=float32)"
            ]
          },
          "metadata": {},
          "execution_count": 12
        }
      ]
    },
    {
      "cell_type": "code",
      "source": [
        ""
      ],
      "metadata": {
        "id": "gSrvKESMyit1"
      },
      "execution_count": null,
      "outputs": []
    },
    {
      "cell_type": "code",
      "source": [
        "# Tokenize words\n",
        "tokenizer = Tokenizer()\n",
        "tokenizer.fit_on_texts(pd.concat([X_train, X_test], axis=0))\n",
        "\n",
        "sequences_train = tokenizer.texts_to_sequences(X_train)\n",
        "sequences_test = tokenizer.texts_to_sequences(X_test)\n",
        "sequences_val = tokenizer.texts_to_sequences(X_val)\n",
        "\n",
        "X_train = pad_sequences(sequences_train, maxlen=256, truncating='pre')\n",
        "X_test = pad_sequences(sequences_test, maxlen=256, truncating='pre')\n",
        "X_val = pad_sequences(sequences_val, maxlen=256, truncating='pre')\n",
        "\n",
        "vocabSize = len(tokenizer.index_word) + 1\n",
        "print(f\"Vocabulary size = {vocabSize}\")"
      ],
      "metadata": {
        "execution": {
          "iopub.status.busy": "2021-10-28T17:01:29.161255Z",
          "iopub.execute_input": "2021-10-28T17:01:29.161522Z",
          "iopub.status.idle": "2021-10-28T17:01:30.218061Z",
          "shell.execute_reply.started": "2021-10-28T17:01:29.161484Z",
          "shell.execute_reply": "2021-10-28T17:01:30.217279Z"
        },
        "trusted": true,
        "colab": {
          "base_uri": "https://localhost:8080/"
        },
        "id": "d40kAQnHQprC",
        "outputId": "7aef3499-b6c1-4fe8-d7d2-c73e0eb49a80"
      },
      "execution_count": null,
      "outputs": [
        {
          "output_type": "stream",
          "name": "stdout",
          "text": [
            "Vocabulary size = 16185\n"
          ]
        }
      ]
    },
    {
      "cell_type": "code",
      "source": [
        "#tf.keras.backend.clear_session()"
      ],
      "metadata": {
        "id": "f1cObHW5Q3m0"
      },
      "execution_count": null,
      "outputs": []
    },
    {
      "cell_type": "code",
      "source": [
        "# Embedding\n",
        "max_features = vocabSize\n",
        "maxlen = X_train.shape[1]\n",
        "embedding_size = 200\n",
        "\n",
        "# Convolution\n",
        "kernel_size = 5\n",
        "filters = 256\n",
        "pool_size = 4\n",
        "\n",
        "# LSTM\n",
        "lstm_output_size = 256"
      ],
      "metadata": {
        "id": "WYHsQYqN8J-f"
      },
      "execution_count": null,
      "outputs": []
    },
    {
      "cell_type": "code",
      "source": [
        "model = Sequential()\n",
        "model.add(Embedding(vocabSize, embedding_size, input_length=X_train.shape[1]))\n",
        "model.add(Dropout(0.25))\n",
        "model.add(Conv1D(filters,\n",
        "                 kernel_size,\n",
        "                 padding='valid',\n",
        "                 activation='relu',\n",
        "                 strides=1))\n",
        "model.add(MaxPooling1D(pool_size=pool_size))\n",
        "model.add(LSTM(lstm_output_size))\n",
        "model.add(Dense(6))\n",
        "model.add(Activation('softmax'))\n",
        "\n",
        "#adam = Adam(learning_rate=0.005)\n",
        "model.compile(loss='categorical_crossentropy', optimizer='adam', metrics=['accuracy'])\n",
        "\n",
        "model.summary()"
      ],
      "metadata": {
        "id": "B4YShzOL8UWS",
        "colab": {
          "base_uri": "https://localhost:8080/"
        },
        "outputId": "cc8c6afa-957c-40ee-a28c-b0af3a2073f3"
      },
      "execution_count": null,
      "outputs": [
        {
          "output_type": "stream",
          "name": "stdout",
          "text": [
            "Model: \"sequential\"\n",
            "_________________________________________________________________\n",
            " Layer (type)                Output Shape              Param #   \n",
            "=================================================================\n",
            " embedding (Embedding)       (None, 256, 200)          3237000   \n",
            "                                                                 \n",
            " dropout (Dropout)           (None, 256, 200)          0         \n",
            "                                                                 \n",
            " conv1d (Conv1D)             (None, 252, 256)          256256    \n",
            "                                                                 \n",
            " max_pooling1d (MaxPooling1D  (None, 63, 256)          0         \n",
            " )                                                               \n",
            "                                                                 \n",
            " lstm (LSTM)                 (None, 256)               525312    \n",
            "                                                                 \n",
            " dense (Dense)               (None, 6)                 1542      \n",
            "                                                                 \n",
            " activation (Activation)     (None, 6)                 0         \n",
            "                                                                 \n",
            "=================================================================\n",
            "Total params: 4,020,110\n",
            "Trainable params: 4,020,110\n",
            "Non-trainable params: 0\n",
            "_________________________________________________________________\n"
          ]
        }
      ]
    },
    {
      "cell_type": "code",
      "source": [
        "#Callback\n",
        "#reduce learning rate\n",
        "reduce_lr = tf.keras.callbacks.ReduceLROnPlateau(\n",
        "    monitor='accuracy', \n",
        "    factor=0.2,         \n",
        "    patience=5, \n",
        "    mode='auto',\n",
        "    min_lr=2e-7)\n",
        "\n",
        "#early stop\n",
        "early_stop = tf.keras.callbacks.EarlyStopping(\n",
        "    monitor=\"accuracy\",\n",
        "    patience=10,\n",
        "    min_delta=0,\n",
        "    verbose=0,\n",
        "    mode='auto',\n",
        "    restore_best_weights = True,\n",
        "    baseline=None)"
      ],
      "metadata": {
        "execution": {
          "iopub.status.busy": "2021-10-28T17:02:20.557742Z",
          "iopub.execute_input": "2021-10-28T17:02:20.55807Z",
          "iopub.status.idle": "2021-10-28T17:02:20.562524Z",
          "shell.execute_reply.started": "2021-10-28T17:02:20.558037Z",
          "shell.execute_reply": "2021-10-28T17:02:20.561488Z"
        },
        "trusted": true,
        "id": "VSjuWsCsQprG"
      },
      "execution_count": null,
      "outputs": []
    },
    {
      "cell_type": "code",
      "source": [
        "# Fit model\n",
        "\n",
        "history = model.fit(X_train,\n",
        "                    y_train,\n",
        "                    validation_data=(X_val, y_val),\n",
        "                    batch_size=256,\n",
        "                    epochs=75,\n",
        "                    callbacks=[reduce_lr, early_stop],\n",
        "                    verbose=1\n",
        "                   )"
      ],
      "metadata": {
        "execution": {
          "iopub.status.busy": "2021-10-28T17:02:22.580574Z",
          "iopub.execute_input": "2021-10-28T17:02:22.581177Z",
          "iopub.status.idle": "2021-10-28T17:09:55.805217Z",
          "shell.execute_reply.started": "2021-10-28T17:02:22.581141Z",
          "shell.execute_reply": "2021-10-28T17:09:55.804395Z"
        },
        "trusted": true,
        "id": "CM_GyHrFQprI",
        "colab": {
          "base_uri": "https://localhost:8080/"
        },
        "outputId": "1b0ea8e5-73dd-4a74-961e-ffe49e972f7f"
      },
      "execution_count": null,
      "outputs": [
        {
          "output_type": "stream",
          "name": "stdout",
          "text": [
            "Epoch 1/75\n",
            "63/63 [==============================] - 18s 66ms/step - loss: 1.5341 - accuracy: 0.3856 - val_loss: 1.2384 - val_accuracy: 0.5615 - lr: 0.0010\n",
            "Epoch 2/75\n",
            "63/63 [==============================] - 3s 55ms/step - loss: 0.7205 - accuracy: 0.7293 - val_loss: 0.4822 - val_accuracy: 0.8450 - lr: 0.0010\n",
            "Epoch 3/75\n",
            "63/63 [==============================] - 3s 55ms/step - loss: 0.2408 - accuracy: 0.9168 - val_loss: 0.2544 - val_accuracy: 0.9130 - lr: 0.0010\n",
            "Epoch 4/75\n",
            "63/63 [==============================] - 3s 55ms/step - loss: 0.0979 - accuracy: 0.9656 - val_loss: 0.2611 - val_accuracy: 0.9155 - lr: 0.0010\n",
            "Epoch 5/75\n",
            "63/63 [==============================] - 4s 56ms/step - loss: 0.0552 - accuracy: 0.9797 - val_loss: 0.2806 - val_accuracy: 0.9155 - lr: 0.0010\n",
            "Epoch 6/75\n",
            "63/63 [==============================] - 4s 56ms/step - loss: 0.0399 - accuracy: 0.9855 - val_loss: 0.3287 - val_accuracy: 0.9050 - lr: 0.0010\n",
            "Epoch 7/75\n",
            "63/63 [==============================] - 4s 57ms/step - loss: 0.0299 - accuracy: 0.9890 - val_loss: 0.3283 - val_accuracy: 0.9065 - lr: 0.0010\n",
            "Epoch 8/75\n",
            "63/63 [==============================] - 4s 57ms/step - loss: 0.0242 - accuracy: 0.9915 - val_loss: 0.3366 - val_accuracy: 0.9065 - lr: 0.0010\n",
            "Epoch 9/75\n",
            "63/63 [==============================] - 4s 57ms/step - loss: 0.0199 - accuracy: 0.9939 - val_loss: 0.3387 - val_accuracy: 0.9110 - lr: 0.0010\n",
            "Epoch 10/75\n",
            "63/63 [==============================] - 4s 56ms/step - loss: 0.0187 - accuracy: 0.9935 - val_loss: 0.3571 - val_accuracy: 0.9065 - lr: 0.0010\n",
            "Epoch 11/75\n",
            "63/63 [==============================] - 4s 60ms/step - loss: 0.0188 - accuracy: 0.9936 - val_loss: 0.3767 - val_accuracy: 0.9125 - lr: 0.0010\n",
            "Epoch 12/75\n",
            "63/63 [==============================] - 4s 57ms/step - loss: 0.0138 - accuracy: 0.9952 - val_loss: 0.3740 - val_accuracy: 0.9140 - lr: 0.0010\n",
            "Epoch 13/75\n",
            "63/63 [==============================] - 4s 57ms/step - loss: 0.0130 - accuracy: 0.9960 - val_loss: 0.3932 - val_accuracy: 0.9085 - lr: 0.0010\n",
            "Epoch 14/75\n",
            "63/63 [==============================] - 4s 58ms/step - loss: 0.0136 - accuracy: 0.9952 - val_loss: 0.3803 - val_accuracy: 0.9090 - lr: 0.0010\n",
            "Epoch 15/75\n",
            "63/63 [==============================] - 4s 58ms/step - loss: 0.0144 - accuracy: 0.9950 - val_loss: 0.3769 - val_accuracy: 0.9115 - lr: 0.0010\n",
            "Epoch 16/75\n",
            "63/63 [==============================] - 4s 58ms/step - loss: 0.0131 - accuracy: 0.9955 - val_loss: 0.3881 - val_accuracy: 0.9150 - lr: 0.0010\n",
            "Epoch 17/75\n",
            "63/63 [==============================] - 4s 58ms/step - loss: 0.0112 - accuracy: 0.9957 - val_loss: 0.4145 - val_accuracy: 0.9085 - lr: 0.0010\n",
            "Epoch 18/75\n",
            "63/63 [==============================] - 4s 59ms/step - loss: 0.0106 - accuracy: 0.9965 - val_loss: 0.3893 - val_accuracy: 0.9120 - lr: 0.0010\n",
            "Epoch 19/75\n",
            "63/63 [==============================] - 4s 60ms/step - loss: 0.0099 - accuracy: 0.9966 - val_loss: 0.4214 - val_accuracy: 0.9120 - lr: 0.0010\n",
            "Epoch 20/75\n",
            "63/63 [==============================] - 4s 60ms/step - loss: 0.0097 - accuracy: 0.9966 - val_loss: 0.4003 - val_accuracy: 0.9120 - lr: 0.0010\n",
            "Epoch 21/75\n",
            "63/63 [==============================] - 4s 61ms/step - loss: 0.0100 - accuracy: 0.9961 - val_loss: 0.4217 - val_accuracy: 0.9100 - lr: 0.0010\n",
            "Epoch 22/75\n",
            "63/63 [==============================] - 4s 61ms/step - loss: 0.0089 - accuracy: 0.9969 - val_loss: 0.4299 - val_accuracy: 0.9105 - lr: 0.0010\n",
            "Epoch 23/75\n",
            "63/63 [==============================] - 4s 60ms/step - loss: 0.0089 - accuracy: 0.9966 - val_loss: 0.4398 - val_accuracy: 0.9125 - lr: 0.0010\n",
            "Epoch 24/75\n",
            "63/63 [==============================] - 4s 60ms/step - loss: 0.0097 - accuracy: 0.9963 - val_loss: 0.4648 - val_accuracy: 0.9055 - lr: 0.0010\n",
            "Epoch 25/75\n",
            "63/63 [==============================] - 4s 60ms/step - loss: 0.0106 - accuracy: 0.9958 - val_loss: 0.4617 - val_accuracy: 0.9035 - lr: 0.0010\n",
            "Epoch 26/75\n",
            "63/63 [==============================] - 4s 60ms/step - loss: 0.0113 - accuracy: 0.9964 - val_loss: 0.4397 - val_accuracy: 0.9070 - lr: 0.0010\n",
            "Epoch 27/75\n",
            "63/63 [==============================] - 4s 59ms/step - loss: 0.0106 - accuracy: 0.9961 - val_loss: 0.4223 - val_accuracy: 0.9095 - lr: 0.0010\n",
            "Epoch 28/75\n",
            "63/63 [==============================] - 4s 59ms/step - loss: 0.0066 - accuracy: 0.9972 - val_loss: 0.4116 - val_accuracy: 0.9130 - lr: 2.0000e-04\n",
            "Epoch 29/75\n",
            "63/63 [==============================] - 4s 59ms/step - loss: 0.0056 - accuracy: 0.9974 - val_loss: 0.4187 - val_accuracy: 0.9110 - lr: 2.0000e-04\n",
            "Epoch 30/75\n",
            "63/63 [==============================] - 4s 58ms/step - loss: 0.0053 - accuracy: 0.9976 - val_loss: 0.4228 - val_accuracy: 0.9115 - lr: 2.0000e-04\n",
            "Epoch 31/75\n",
            "63/63 [==============================] - 4s 59ms/step - loss: 0.0050 - accuracy: 0.9977 - val_loss: 0.4222 - val_accuracy: 0.9150 - lr: 2.0000e-04\n",
            "Epoch 32/75\n",
            "63/63 [==============================] - 4s 58ms/step - loss: 0.0046 - accuracy: 0.9977 - val_loss: 0.4297 - val_accuracy: 0.9115 - lr: 2.0000e-04\n",
            "Epoch 33/75\n",
            "63/63 [==============================] - 4s 58ms/step - loss: 0.0045 - accuracy: 0.9977 - val_loss: 0.4309 - val_accuracy: 0.9150 - lr: 2.0000e-04\n",
            "Epoch 34/75\n",
            "63/63 [==============================] - 4s 58ms/step - loss: 0.0046 - accuracy: 0.9976 - val_loss: 0.4306 - val_accuracy: 0.9155 - lr: 2.0000e-04\n",
            "Epoch 35/75\n",
            "63/63 [==============================] - 4s 58ms/step - loss: 0.0046 - accuracy: 0.9975 - val_loss: 0.4357 - val_accuracy: 0.9165 - lr: 2.0000e-04\n",
            "Epoch 36/75\n",
            "63/63 [==============================] - 4s 58ms/step - loss: 0.0045 - accuracy: 0.9976 - val_loss: 0.4378 - val_accuracy: 0.9140 - lr: 2.0000e-04\n",
            "Epoch 37/75\n",
            "63/63 [==============================] - 4s 58ms/step - loss: 0.0042 - accuracy: 0.9976 - val_loss: 0.4382 - val_accuracy: 0.9145 - lr: 4.0000e-05\n",
            "Epoch 38/75\n",
            "63/63 [==============================] - 4s 59ms/step - loss: 0.0035 - accuracy: 0.9984 - val_loss: 0.4387 - val_accuracy: 0.9140 - lr: 4.0000e-05\n",
            "Epoch 39/75\n",
            "63/63 [==============================] - 4s 59ms/step - loss: 0.0038 - accuracy: 0.9980 - val_loss: 0.4393 - val_accuracy: 0.9145 - lr: 4.0000e-05\n",
            "Epoch 40/75\n",
            "63/63 [==============================] - 4s 59ms/step - loss: 0.0037 - accuracy: 0.9982 - val_loss: 0.4404 - val_accuracy: 0.9140 - lr: 4.0000e-05\n",
            "Epoch 41/75\n",
            "63/63 [==============================] - 4s 59ms/step - loss: 0.0040 - accuracy: 0.9981 - val_loss: 0.4404 - val_accuracy: 0.9140 - lr: 4.0000e-05\n",
            "Epoch 42/75\n",
            "63/63 [==============================] - 4s 59ms/step - loss: 0.0036 - accuracy: 0.9983 - val_loss: 0.4412 - val_accuracy: 0.9135 - lr: 4.0000e-05\n",
            "Epoch 43/75\n",
            "63/63 [==============================] - 4s 59ms/step - loss: 0.0039 - accuracy: 0.9977 - val_loss: 0.4419 - val_accuracy: 0.9140 - lr: 4.0000e-05\n",
            "Epoch 44/75\n",
            "63/63 [==============================] - 4s 59ms/step - loss: 0.0037 - accuracy: 0.9981 - val_loss: 0.4420 - val_accuracy: 0.9135 - lr: 8.0000e-06\n",
            "Epoch 45/75\n",
            "63/63 [==============================] - 4s 59ms/step - loss: 0.0039 - accuracy: 0.9977 - val_loss: 0.4422 - val_accuracy: 0.9135 - lr: 8.0000e-06\n",
            "Epoch 46/75\n",
            "63/63 [==============================] - 4s 59ms/step - loss: 0.0036 - accuracy: 0.9983 - val_loss: 0.4424 - val_accuracy: 0.9135 - lr: 8.0000e-06\n",
            "Epoch 47/75\n",
            "63/63 [==============================] - 4s 59ms/step - loss: 0.0037 - accuracy: 0.9981 - val_loss: 0.4427 - val_accuracy: 0.9135 - lr: 8.0000e-06\n",
            "Epoch 48/75\n",
            "63/63 [==============================] - 4s 59ms/step - loss: 0.0039 - accuracy: 0.9979 - val_loss: 0.4430 - val_accuracy: 0.9135 - lr: 8.0000e-06\n"
          ]
        }
      ]
    },
    {
      "cell_type": "code",
      "source": [
        "model.evaluate(X_val, y_val, verbose=1)"
      ],
      "metadata": {
        "execution": {
          "iopub.status.busy": "2021-10-28T17:14:45.655628Z",
          "iopub.execute_input": "2021-10-28T17:14:45.656436Z",
          "iopub.status.idle": "2021-10-28T17:15:26.650347Z",
          "shell.execute_reply.started": "2021-10-28T17:14:45.656399Z",
          "shell.execute_reply": "2021-10-28T17:15:26.649551Z"
        },
        "trusted": true,
        "id": "Duln-TnJQprI",
        "colab": {
          "base_uri": "https://localhost:8080/"
        },
        "outputId": "eb3e0725-91dc-411d-9f78-c0875083f6e4"
      },
      "execution_count": null,
      "outputs": [
        {
          "output_type": "stream",
          "name": "stdout",
          "text": [
            "63/63 [==============================] - 1s 7ms/step - loss: 0.4387 - accuracy: 0.9140\n"
          ]
        },
        {
          "output_type": "execute_result",
          "data": {
            "text/plain": [
              "[0.43873104453086853, 0.9139999747276306]"
            ]
          },
          "metadata": {},
          "execution_count": 13
        }
      ]
    },
    {
      "cell_type": "code",
      "source": [
        "# Visualize Loss & Accuracy\n",
        "\n",
        "%matplotlib inline\n",
        "import matplotlib.pyplot as plt\n",
        "acc = history.history['accuracy']\n",
        "val_acc = history.history['val_accuracy']\n",
        "loss = history.history['loss']\n",
        "val_loss = history.history['val_loss']\n",
        "\n",
        "epochs = range(len(acc))\n",
        "\n",
        "plt.plot(epochs, acc, 'r', label='Training accuracy')\n",
        "plt.plot(epochs, val_acc, 'b', label='Validation accuracy')\n",
        "plt.title('Training and validation accuracy')\n",
        "plt.legend()\n",
        "plt.figure()\n",
        "\n",
        "plt.plot(epochs, loss, 'r', label='Training Loss')\n",
        "plt.plot(epochs, val_loss, 'b', label='Validation Loss')\n",
        "plt.title('Training and validation loss')\n",
        "plt.legend()\n",
        "\n",
        "plt.show()"
      ],
      "metadata": {
        "execution": {
          "iopub.status.busy": "2021-10-28T17:15:31.082882Z",
          "iopub.execute_input": "2021-10-28T17:15:31.08361Z",
          "iopub.status.idle": "2021-10-28T17:15:31.495194Z",
          "shell.execute_reply.started": "2021-10-28T17:15:31.083557Z",
          "shell.execute_reply": "2021-10-28T17:15:31.494441Z"
        },
        "trusted": true,
        "id": "0E60nVznQprO",
        "colab": {
          "base_uri": "https://localhost:8080/",
          "height": 545
        },
        "outputId": "35ef97cd-636d-44f7-8c65-5e6d9296acc6"
      },
      "execution_count": null,
      "outputs": [
        {
          "output_type": "display_data",
          "data": {
            "text/plain": [
              "<Figure size 432x288 with 1 Axes>"
            ],
            "image/png": "[encoded data removed]"
          },
          "metadata": {
            "needs_background": "light"
          }
        },
        {
          "output_type": "display_data",
          "data": {
            "text/plain": [
              "<Figure size 432x288 with 1 Axes>"
            ],
            "image/png": "[encoded data removed]"
          },
          "metadata": {
            "needs_background": "light"
          }
        }
      ]
    },
    {
      "cell_type": "code",
      "source": [
        "# Classify custom sample\n",
        "\n",
        "sentences = ['i wasnt very interested in it but it evoked the feeling of an earth grittily doomed by aliens quite well',\n",
        "             'i managed however to relax and enjoy the scenery feeling romantic and thoroughly enjoying our th anniversary cruise',\n",
        "             'i hope i get the job cause im in desperate need of money and i feel greedy',\n",
        "             'i get scared i feel ignored i feel happy i get silly i choke on my own words i make wishes i have dreams and i still want to believe anything could happen in this world for an ordinary girl like you like me for an ordinary girl like you like me how are you',\n",
        "             'i dont want you',\n",
        "             'Lets having fun together'\n",
        "            #sample teks\n",
        "            ]\n",
        "for sentence in sentences:\n",
        "    print(sentence)\n",
        "    sentence = clean(sentence)\n",
        "    sentence = tokenizer.texts_to_sequences([sentence])\n",
        "    sentence = pad_sequences(sentence, maxlen=256, truncating='pre')\n",
        "    result = le.inverse_transform(np.argmax(model.predict(sentence), axis=-1))[0]\n",
        "    proba =  np.max(model.predict(sentence))\n",
        "    print(f\"{result} : {proba}\\n\")"
      ],
      "metadata": {
        "execution": {
          "iopub.status.busy": "2021-10-28T17:15:46.84557Z",
          "iopub.execute_input": "2021-10-28T17:15:46.845844Z",
          "iopub.status.idle": "2021-10-28T17:15:49.10411Z",
          "shell.execute_reply.started": "2021-10-28T17:15:46.845813Z",
          "shell.execute_reply": "2021-10-28T17:15:49.103351Z"
        },
        "trusted": true,
        "id": "hFGFd0gQQprP",
        "colab": {
          "base_uri": "https://localhost:8080/"
        },
        "outputId": "ed9719dc-6f1f-4d17-e726-da9ebc229c72"
      },
      "execution_count": null,
      "outputs": [
        {
          "output_type": "stream",
          "name": "stdout",
          "text": [
            "i wasnt very interested in it but it evoked the feeling of an earth grittily doomed by aliens quite well\n",
            "sadness : 1.0\n",
            "\n",
            "i managed however to relax and enjoy the scenery feeling romantic and thoroughly enjoying our th anniversary cruise\n",
            "love : 0.9992684721946716\n",
            "\n",
            "i hope i get the job cause im in desperate need of money and i feel greedy\n",
            "anger : 0.9999995231628418\n",
            "\n",
            "i get scared i feel ignored i feel happy i get silly i choke on my own words i make wishes i have dreams and i still want to believe anything could happen in this world for an ordinary girl like you like me for an ordinary girl like you like me how are you\n",
            "sadness : 0.9999576807022095\n",
            "\n",
            "i dont want you\n",
            "anger : 0.4173435866832733\n",
            "\n",
            "Lets having fun together\n",
            "joy : 0.38612255454063416\n",
            "\n"
          ]
        }
      ]
    },
    {
      "cell_type": "code",
      "source": [
        "import pickle\n",
        "with open('tokenizer.pickle', 'wb') as f:\n",
        "    pickle.dump(tokenizer, f)\n",
        "    \n",
        "with open('labelEncoder.pickle', 'wb') as f:\n",
        "    pickle.dump(le, f)\n",
        "    \n",
        "    \n",
        "model.save('Emotion Recognition1.h5')"
      ],
      "metadata": {
        "id": "1OAz47lBQprP"
      },
      "execution_count": null,
      "outputs": []
    }
  ]
}